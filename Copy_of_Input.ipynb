{
  "nbformat": 4,
  "nbformat_minor": 0,
  "metadata": {
    "colab": {
      "provenance": [],
      "include_colab_link": true
    },
    "kernelspec": {
      "name": "python3",
      "display_name": "Python 3"
    },
    "language_info": {
      "name": "python"
    }
  },
  "cells": [
    {
      "cell_type": "markdown",
      "metadata": {
        "id": "view-in-github",
        "colab_type": "text"
      },
      "source": [
        "<a href=\"https://colab.research.google.com/github/enguyen013/lab2d/blob/main/Copy_of_Input.ipynb\" target=\"_parent\"><img src=\"https://colab.research.google.com/assets/colab-badge.svg\" alt=\"Open In Colab\"/></a>"
      ]
    },
    {
      "cell_type": "markdown",
      "source": [
        "# User input in Python\n",
        "\n",
        "## Objective\n",
        "1. Understand how ```input()``` function is applied.\n",
        "\n",
        "## Prerequisite\n",
        "\n",
        "- Python literals lecture & lab\n",
        "- Programming variables lecture\n",
        "\n",
        "## What do you need to complete this exercise?\n",
        "\n",
        "You can perform this exercise in any Python IDE, including JupyterLab or Google Colab.\n"
      ],
      "metadata": {
        "id": "2ITy4ycVFXBq"
      }
    },
    {
      "cell_type": "markdown",
      "source": [
        "### User input\n",
        "\n",
        "a. Write a program that prompts the user to enter the weight of a person in kilograms and outputs the equivalent weight in pounds. (Note that 1 kilogram = 2.2 pounds)."
      ],
      "metadata": {
        "id": "uQxH0KO0tsDc"
      }
    },
    {
      "cell_type": "code",
      "source": [
        "kilograms = float(input(\"enter weight in kilograms:\"))\n",
        "pounds = kilograms * 2.20462\n",
        "print(f\"the equivalent in pounds is{pounds:2f} \")\n",
        "\n"
      ],
      "metadata": {
        "colab": {
          "base_uri": "https://localhost:8080/"
        },
        "id": "N3wgQQ672rWR",
        "outputId": "1b435dd0-64f2-4b29-b004-2ecaa5ad16c0"
      },
      "execution_count": null,
      "outputs": [
        {
          "output_type": "stream",
          "name": "stdout",
          "text": [
            "enter weight in kilograms:4\n",
            "the equivalent in pounds is8.818480 \n"
          ]
        }
      ]
    },
    {
      "cell_type": "markdown",
      "source": [
        "b. Interest on a credit card's unpaid balance is calculated using the average daily balance. Suppose that $netBalance$ is the balance shown in the bill, $payment$ is the payment made, $d1$ is the number of days in the billing cycle, and $d2$ is the number of days payment is made before biling cycle. Then, the average daily balance is: $$averageDailybalance = (netBalance \\times d1 - payment \\times d2)/d1$$.\n",
        "\n",
        "If the interest rate per month is, say, 0.0152, then the interest on the unpaid balance is: $interest = averageDailyBalance \\times 0.0152$\n",
        "\n",
        "Write a program that accepts as input $netBalance$, $payment$, $d1$, $d2$, and $interest rate per month$. The program outputs the interest."
      ],
      "metadata": {
        "id": "2ou6B-5b2ws3"
      }
    },
    {
      "cell_type": "code",
      "source": [
        "net_balance = float(input(\"Enter net balace:\"))\n",
        "payment = float(input(\"enter payment amount:\"))\n",
        "d1 = int(input(\"Enter days in billing cycle:\"))\n",
        "d2 = int(input(\"Enter days until payment: \"))\n",
        "interest_rate = float(input(\"Enter monthy intrest rate:\"))\n",
        "avarage_daily_balace = (net_balance * d1 - payment *d2)/d1\n",
        "interest = avarage_daily_balace * interest_rate\n",
        "print(f\"Interest:{interest:.2f}\")\n",
        "\n"
      ],
      "metadata": {
        "id": "pqP70bD02x9h",
        "outputId": "07d2994f-e59c-48c6-cc7f-eb578086969b",
        "colab": {
          "base_uri": "https://localhost:8080/"
        }
      },
      "execution_count": null,
      "outputs": [
        {
          "output_type": "stream",
          "name": "stdout",
          "text": [
            "Enter net balace:3200\n",
            "enter payment amount:200.50\n",
            "Enter days in billing cycle:20\n",
            "Enter days until payment: 15\n",
            "Enter monthy intrest rate:79.90\n",
            "Interest:243665.04\n"
          ]
        }
      ]
    },
    {
      "cell_type": "markdown",
      "source": [
        "c. Two cars A and B leave an intersection at the same time. Car A travels west at an average speed of x miles per hour and car B travels south at an average speed of y miles per hour. Write a program that prompts the user to enter the average speed of both the cars and the elapsed time (in hours and minutes) and outputs the (shortest) distance between the cars."
      ],
      "metadata": {
        "id": "gAxw_xVk25qO"
      }
    },
    {
      "cell_type": "code",
      "source": [
        "import math\n",
        "speed_a = float(input(\"Enter the avarage speed of car A (mph):\"))\n",
        "speed_b = float(input(\"Enter the avarage speed of car B (mph: )\"))\n",
        "hours = int(input(\"Enter the elapse time (hours):\"))\n",
        "minutes = int(input(\"Enter the elapsed time (minutes):\"))\n",
        "total_time = hours + minutes / 60\n",
        "distance_a = speed_a * total_time\n",
        "distance_b = speed_b * total_time\n",
        "shortest_distance = math.sqrt(distance_a**2 + distance_b**2)\n",
        "\n",
        "print(f\"Shortest distance: {shortest_distance: .2f} miles\")\n"
      ],
      "metadata": {
        "id": "nMPuZXsH26nW",
        "outputId": "76de5d21-dc43-44db-ba61-f33cd580b354",
        "colab": {
          "base_uri": "https://localhost:8080/"
        }
      },
      "execution_count": null,
      "outputs": [
        {
          "output_type": "stream",
          "name": "stdout",
          "text": [
            "Enter the avarage speed of car A (mph):60\n",
            "Enter the avarage speed of car B (mph: )50\n",
            "Enter the elapse time (hours):2\n",
            "Enter the elapsed time (minutes):30\n",
            "Shortest distance:  195.26 miles\n"
          ]
        }
      ]
    },
    {
      "cell_type": "markdown",
      "source": [
        "### Troubleshooting\n",
        "\n",
        "Please troubleshoot the following issue **without using Python**, and explain your reasoning.\n",
        "\n",
        "a. ```hello = \"hello\"```  \n",
        "b. ```_var = 100```  \n",
        "c. ```!var_1 = 200```  \n",
        "d. ```print = \"print me\"```  \n",
        "e. ```False = 0```  "
      ],
      "metadata": {
        "id": "V0l5fqK-NJ2n"
      }
    },
    {
      "cell_type": "markdown",
      "source": [
        "a. hello = \"hello\"\n",
        "This line is correct. You're simply assigning the string \"hello\" to the variable hello. There are no issues here.\n",
        "\n",
        "b. _var = 100\n",
        "This line is also correct. In Python, you can use an underscore (_) to start a variable name, which is often used for indicating \"private\" or special-purpose variables. There are no issues with this line.\n",
        "\n",
        "c. !var_1 = 200\n",
        "This line is incorrect. The exclamation mark (!) is not valid in Python variable names. Variable names can only include letters, digits, and underscores, and they cannot start with a digit. You need to remove the exclamation mark to make this a valid variable assignment, such as:\n",
        "var_1 = 200\n",
        "\n",
        "d. print = \"print me\"\n",
        "This line is not ideal but syntactically correct. You are reassigning the built-in function print to the string \"print me\". This means that any subsequent calls to print() will raise an error because you've overwritten the function with a string. It's generally recommended not to override built-in function names like print, as it can cause confusion and errors in your program. You should avoid this assignment to maintain the integrity of built-in functions:\n",
        "print = \"print me\"\n",
        "\n",
        "e. False = 0\n",
        "This line is incorrect. In Python, False is a built-in constant representing a Boolean value, and you cannot assign a value to it. You cannot assign 0 to False, as False is immutable. Trying to do so will raise a SyntaxError. The corrected line would need to use a different variable name"
      ],
      "metadata": {
        "id": "Cz8CqobPNO8n"
      }
    },
    {
      "cell_type": "markdown",
      "source": [
        "## Challenges\n",
        "Wen, I was typing my answer for C., I tested the code and nothing popped up red when it was completed. But when I provided the answers, there was an error indicating that something was wrong with line 9 but in fact, I was missing the import math at the beginning of the code."
      ],
      "metadata": {
        "id": "xQzjxKdvvbyo"
      }
    },
    {
      "cell_type": "markdown",
      "source": [
        "Write your challenges here"
      ],
      "metadata": {
        "id": "qfJNpTB5EbY4"
      }
    }
  ]
}